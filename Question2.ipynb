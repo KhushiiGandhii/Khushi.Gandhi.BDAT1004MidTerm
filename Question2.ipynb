{
 "cells": [
  {
   "cell_type": "code",
   "execution_count": 1,
   "id": "48a17e0f",
   "metadata": {},
   "outputs": [
    {
     "name": "stdout",
     "output_type": "stream",
     "text": [
      "\n",
      "*\n",
      "\n",
      "  *\n",
      "*\n",
      "*\n",
      "\n",
      "      *\n",
      "    *\n",
      "    *\n",
      "  *\n",
      "    *\n",
      "  *\n",
      "  *\n",
      "*\n",
      "    *\n",
      "  *\n",
      "  *\n",
      "*\n",
      "  *\n",
      "*\n",
      "*\n",
      "\n"
     ]
    }
   ],
   "source": [
    "def tough(indent, stars):\n",
    "    if stars == 0:\n",
    "        return\n",
    "    tough(indent + 2, stars - 1)\n",
    "    print(\" \" * indent + \"*\")\n",
    "    if stars > 1:\n",
    "        tough(indent, stars - 1)\n",
    "\n",
    "# Test the function with sample inputs\n",
    "tough(0, 0)\n",
    "print()\n",
    "tough(0, 1)\n",
    "print()\n",
    "tough(0, 2)\n",
    "print()\n",
    "tough(0, 4)\n",
    "print()"
   ]
  },
  {
   "cell_type": "code",
   "execution_count": null,
   "id": "4f438bad",
   "metadata": {},
   "outputs": [],
   "source": []
  }
 ],
 "metadata": {
  "kernelspec": {
   "display_name": "Python 3 (ipykernel)",
   "language": "python",
   "name": "python3"
  },
  "language_info": {
   "codemirror_mode": {
    "name": "ipython",
    "version": 3
   },
   "file_extension": ".py",
   "mimetype": "text/x-python",
   "name": "python",
   "nbconvert_exporter": "python",
   "pygments_lexer": "ipython3",
   "version": "3.10.8"
  }
 },
 "nbformat": 4,
 "nbformat_minor": 5
}
